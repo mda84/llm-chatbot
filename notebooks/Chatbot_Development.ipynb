{
 "cells": [
  {
   "cell_type": "markdown",
   "metadata": {},
   "source": [
    "# LLM Chatbot Interactive Testing\n",
    "\n",
    "This notebook demonstrates how to interact with the LLM Chatbot API which includes database logging, API key authentication, and rate limiting. We will:\n",
    "\n",
    "- Send a message to the `/chat` endpoint and view the generated response.\n",
    "- Retrieve the conversation history from the `/history/{session_id}` endpoint.\n",
    "\n",
    "Make sure your FastAPI server is running (e.g., via `uvicorn app:app --host 0.0.0.0 --port 8000`) and that your environment variable `API_KEY` is set to match the one expected by the server (default: `secret-api-key`)."
   ]
  },
  {
   "cell_type": "code",
   "execution_count": null,
   "metadata": {},
   "outputs": [],
   "source": [
    "!pip install requests"
   ]
  },
  {
   "cell_type": "code",
   "execution_count": null,
   "metadata": {},
   "outputs": [],
   "source": [
    "import requests\n",
    "\n",
    "# Base URL for the API\n",
    "API_URL = 'http://localhost:8000'\n",
    "\n",
    "# Set the API key to match the one expected by the server\n",
    "API_KEY = 'secret-api-key'\n",
    "\n",
    "# Prepare headers for authentication\n",
    "headers = {\"x-api-key\": API_KEY}\n",
    "\n",
    "print(\"Base URL:\", API_URL)\n",
    "print(\"Using API Key:\", API_KEY)"
   ]
  },
  {
   "cell_type": "markdown",
   "metadata": {},
   "source": [
    "## Test /chat Endpoint"
   ]
  },
  {
   "cell_type": "code",
   "execution_count": null,
   "metadata": {},
   "outputs": [],
   "source": [
    "chat_endpoint = f\"{API_URL}/chat\"\n",
    "\n",
    "# Example payload: a user message and a session ID\n",
    "payload = {\n",
    "    \"user_message\": \"Hello, how do I reset my password?\",\n",
    "    \"session_id\": \"test_session\"\n",
    "}\n",
    "\n",
    "# Send POST request to the chat endpoint\n",
    "response = requests.post(chat_endpoint, json=payload, headers=headers)\n",
    "\n",
    "print(\"Chat Endpoint Response:\")\n",
    "print(response.json())"
   ]
  },
  {
   "cell_type": "markdown",
   "metadata": {},
   "source": [
    "## Test /history Endpoint"
   ]
  },
  {
   "cell_type": "code",
   "execution_count": null,
   "metadata": {},
   "outputs": [],
   "source": [
    "history_endpoint = f\"{API_URL}/history/test_session\"\n",
    "\n",
    "# Send GET request to retrieve conversation history\n",
    "response_history = requests.get(history_endpoint, headers=headers)\n",
    "\n",
    "print(\"History Endpoint Response:\")\n",
    "print(response_history.json())"
   ]
  }
 ],
 "metadata": {
  "kernelspec": {
   "display_name": "Python 3 (ipykernel)",
   "language": "python",
   "name": "python3"
  },
  "language_info": {
   "codemirror_mode": {
    "name": "ipython",
    "version": 3
   },
   "file_extension": ".py",
   "mimetype": "text/x-python",
   "name": "python",
   "nbconvert_exporter": "python",
   "pygments_lexer": "ipython3",
   "version": "3.9.2"
  }
 },
 "nbformat": 4,
 "nbformat_minor": 2
}
